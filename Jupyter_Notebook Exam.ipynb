{
 "cells": [
  {
   "cell_type": "markdown",
   "metadata": {},
   "source": [
    "<center>\n",
    "    <img src=\"https://cf-courses-data.s3.us.cloud-object-storage.appdomain.cloud/IBMDeveloperSkillsNetwork-DS0105EN-SkillsNetwork/labs/Module2/images/SN_web_lightmode.png\" width=\"300\" alt=\"cognitiveclass.ai logo\">\n",
    "</center>\n"
   ]
  },
  {
   "cell_type": "markdown",
   "metadata": {},
   "source": [
    "#### Add your code below following the instructions given in the course\n"
   ]
  },
  {
   "cell_type": "markdown",
   "metadata": {},
   "source": [
    "FINAL EXAM COURSE"
   ]
  },
  {
   "cell_type": "markdown",
   "metadata": {},
   "source": [
    "Data Science is a multidisciplinary field that has emerged as a crucial player in the information age, transforming the way we extract insights and knowledge from vast amounts of data. At its core, data science involves the extraction of meaningful patterns, trends, and insights from structured and unstructured data, employing a combination of statistical analysis, machine learning algorithms, and domain expertise. This dynamic discipline has become an indispensable tool across various industries, influencing decision-making processes, driving innovation, and uncovering hidden opportunities.\n",
    "\n",
    "The importance of data science lies in its ability to turn raw data into actionable insights, providing organizations with a competitive edge in today's data-driven world. Businesses, government agencies, and research institutions leverage data science techniques to make informed decisions, optimize operations, and gain a deeper understanding of their target audience. It facilitates evidence-based decision-making by transforming data into valuable knowledge, helping organizations stay agile in an ever-changing landscape.\n",
    "\n",
    "One of the primary uses of data science is in predictive modeling, where historical data is analyzed to forecast future trends and outcomes. This has widespread applications in industries such as finance, healthcare, and marketing, where accurate predictions can lead to better risk management, improved patient care, and targeted advertising strategies. Additionally, data science plays a pivotal role in anomaly detection, identifying unusual patterns or behaviors that may indicate fraud, cybersecurity threats, or operational issues.\n",
    "\n",
    "In healthcare, data science is revolutionizing patient care and treatment strategies. By analyzing patient records, medical images, and genomic data, healthcare professionals can tailor treatments to individual patients, improving outcomes and reducing the likelihood of adverse events. Moreover, data science is instrumental in drug discovery, accelerating the identification of potential compounds and streamlining the drug development process.\n",
    "\n",
    "The realm of finance is another domain where data science is a game-changer. Algorithmic trading, credit scoring, and fraud detection are just a few examples of how data science enhances financial operations. By analyzing market trends and customer behavior, financial institutions can make more informed investment decisions, assess credit risks accurately, and detect fraudulent activities in real-time.\n",
    "\n",
    "In the realm of technology, data science is at the forefront of innovations such as natural language processing, image recognition, and recommendation systems. Companies like Google, Facebook, and Amazon rely heavily on data science to enhance user experience, personalize content, and optimize their services. Recommendation algorithms, for instance, analyze user preferences to suggest products, movies, or articles that are likely to be of interest, creating a more engaging and tailored experience.\n",
    "\n",
    "As the volume of data continues to grow exponentially, data science is evolving to handle increasingly complex challenges. Big Data technologies, cloud computing, and advanced analytics are becoming integral parts of the data science toolkit, enabling the processing and analysis of massive datasets. The field is also embracing ethical considerations and responsible data practices to address concerns related to privacy, bias, and transparency."
   ]
  },
  {
   "cell_type": "markdown",
   "metadata": {},
   "source": [
    "\n",
    "Data science encompasses a variety of programming languages that are used for tasks such as data analysis, machine learning, statistical modeling, and visualization. Here is a list of some prominent languages in the field of data science:\n",
    "\n",
    "1. Python: Widely used for its simplicity and versatility, Python is a go-to language for data science tasks. It has extensive libraries like NumPy, pandas, scikit-learn, TensorFlow, and PyTorch.\n",
    "2. R: Specifically designed for statistical computing and data analysis, R is a powerful language with a rich ecosystem of packages for statistical modeling, visualization, and data manipulation.\n",
    "3. SQL (Structured Query Language): Essential for working with relational databases, SQL is used to query, update, and manage databases. Proficiency in SQL is crucial for accessing and manipulating data stored in databases.\n",
    "4. Julia: Known for its speed and performance, Julia is gaining popularity in the data science community. It is particularly suitable for high-performance numerical and scientific computing.\n",
    "5. Java: Widely used in enterprise environments, Java is not only a general-purpose programming language but is also used in big data processing frameworks like Apache Hadoop.\n",
    "6. Scala: A language that runs on the Java Virtual Machine (JVM), Scala is often used in conjunction with Apache Spark for big data processing and analysis.\n",
    "7. MATLAB: Commonly used in academia and industry, MATLAB is a high-level language that is well-suited for numerical computing, simulation, and visualization.\n",
    "8. SAS: A statistical software suite, SAS is widely used for data management, advanced analytics, and statistical analysis in industries such as finance and healthcare.\n",
    "9. JavaScript (with D3.js): JavaScript is a versatile language used for web development. When combined with D3.js (Data-Driven Documents), it becomes a powerful tool for creating interactive and dynamic data visualizations.\n",
    "10. Ruby: Although not as common in data science as some other languages, Ruby is a dynamic, object-oriented language that can be used for various programming tasks, including data manipulation."
   ]
  },
  {
   "cell_type": "markdown",
   "metadata": {},
   "source": [
    "Data science libraries provide pre-built functions and tools for tasks such as data manipulation, analysis, machine learning, and visualization. Here is a list of popular data science libraries, primarily for the Python programming language:\n",
    "\n",
    "1. NumPy: Fundamental package for scientific computing with support for large, multi-dimensional arrays and matrices, along with mathematical functions.\n",
    "2. Pandas: Provides data structures like DataFrames and Series, making it easy to manipulate and analyze structured data.\n",
    "3. Scikit-learn: Offers simple and efficient tools for data mining and data analysis. It includes various machine learning algorithms and utilities for tasks such as classification, regression, clustering, and dimensionality reduction.\n",
    "4. Matplotlib: A 2D plotting library for creating static, animated, and interactive visualizations in Python.\n",
    "5. Seaborn: Built on top of Matplotlib, Seaborn provides an interface for creating informative and attractive statistical graphics.\n",
    "6. TensorFlow: An open-source machine learning library developed by Google for building and training deep learning models.\n",
    "7. PyTorch: A deep learning library that is widely used for tasks like natural language processing and computer vision.\n",
    "8. Keras: A high-level neural networks API that runs on top of TensorFlow and is designed for fast experimentation with deep neural networks.\n",
    "9. Statsmodels: A library for estimating and testing statistical models, including linear and non-linear regression models.\n",
    "10. NLTK (Natural Language Toolkit): A library for working with human language data, offering tools for classification, tokenization, stemming, tagging, parsing, and more.\n",
    "11. SciPy: A library for mathematics, science, and engineering, building on NumPy. It provides additional functionality for optimization, integration, interpolation, eigenvalue problems, and more.\n",
    "12. Beautiful Soup: A library for pulling data out of HTML and XML files. It provides Pythonic idioms for iterating, searching, and modifying the parse tree.\n",
    "13. scrapy: An open-source and collaborative web crawling framework for Python that is used to extract the data from websites.\n",
    "14. OpenCV: Open Source Computer Vision Library is an open-source computer vision and machine learning software library.\n",
    "15. LightGBM: A gradient boosting framework developed by Microsoft that is efficient and scalable.\n",
    "16. XGBoost: An optimized distributed gradient boosting library designed to be highly efficient and flexible.\n",
    "17. PySpark: The Python API for Apache Spark, a fast and general-purpose cluster computing system."
   ]
  },
  {
   "cell_type": "markdown",
   "metadata": {},
   "source": [
    "| Category             | Tool                  | Description                                          |\n",
    "|----------------------|-----------------------|------------------------------------------------------|\n",
    "| Programming Languages | Python                | General-purpose language with extensive libraries.  |\n",
    "|                      | R                     | Specialized for statistical computing and analysis. |\n",
    "|                      | SQL                   | Query language for relational databases.             |\n",
    "| Visualization        | Matplotlib            | 2D plotting library for creating static visualizations. |\n",
    "|                      | Tableau               | Data visualization tool with interactive dashboards. |\n",
    "|                      | Power BI              | Business analytics service for interactive visualizations. |\n",
    "| Machine Learning      | scikit-learn          | Simple and efficient tools for data mining and data analysis. |\n",
    "|                      | TensorFlow            | Open-source machine learning library by Google.      |\n",
    "|                      | PyTorch               | Deep learning library widely used for research.      |\n",
    "| Data Manipulation     | pandas                | Data structures and tools for data manipulation and analysis. |\n",
    "|                      | dplyr                 | Part of the 'tidyverse' in R for data manipulation.  |\n",
    "|                      | SQLalchemy            | SQL toolkit and Object-Relational Mapping (ORM) for Python. |\n",
    "| Big Data Processing   | Apache Spark          | Open-source distributed computing system.           |\n",
    "|                      | Hadoop                | Framework for distributed storage and processing of large datasets. |\n",
    "| Web Scraping          | BeautifulSoup         | Python library for pulling data out of HTML and XML files. |\n",
    "|                      | Scrapy                | An open-source web crawling framework for Python.    |\n",
    "| Natural Language Processing | NLTK             | Toolkit for working with human language data.       |\n",
    "| Version Control       | Git                   | Distributed version control system.                 |\n",
    "|                      | GitHub                | Web-based platform for version control and collaboration. |\n",
    "| Cloud Computing       | AWS                   | Amazon Web Services for cloud computing.             |\n",
    "|                      | Google Cloud Platform | Cloud services provided by Google.                   |\n",
    "|                      | Azure                 | Microsoft's cloud computing service.                |\n"
   ]
  },
  {
   "cell_type": "markdown",
   "metadata": {},
   "source": [
    "# Introduction to Arithmetic Expressions\n",
    "\n",
    "Arithmetic expressions are fundamental in programming and data analysis, allowing us to perform mathematical operations on numerical values. In this section, we'll explore basic arithmetic operations using Python. You can use these expressions to perform calculations, manipulate data, and solve mathematical problems.\n",
    "\n",
    "# Arithmetic Operators\n",
    "\n",
    "Arithmetic operators are symbols used to perform mathematical operations on variables and values. Here are examples of the basic arithmetic operators in Python:\n",
    "```python\n",
    "\n",
    "# Addition\n",
    "result_addition = 5 + 3\n",
    "print(result_addition)  # Output: 8\n",
    "\n",
    "# Subtraction\n",
    "result_subtraction = 10 - 4\n",
    "print(result_subtraction)  # Output: 6\n",
    "\n",
    "# Multiplication\n",
    "result_multiplication = 3 * 7\n",
    "print(result_multiplication)  # Output: 21\n",
    "\n",
    "# Division\n",
    "result_division = 15 / 3\n",
    "print(result_division)  # Output: 5.0\n",
    "\n",
    "# Floor Division\n",
    "result_floor_division = 17 // 5\n",
    "print(result_floor_division)  # Output: 3\n",
    "\n",
    "# Modulus\n",
    "result_modulus = 17 % 5\n",
    "print(result_modulus)  # Output: 2\n",
    "\n",
    "# Exponentiation\n",
    "result_exponentiation = 2 ** 3\n",
    "print(result_exponentiation)  # Output: 8\n",
    "\n"
   ]
  },
  {
   "cell_type": "code",
   "execution_count": 14,
   "metadata": {},
   "outputs": [
    {
     "name": "stdout",
     "output_type": "stream",
     "text": [
      "The result of multiplying 10 and 5 is: 50\n",
      "The result of adding 10 and 5 is: 15\n"
     ]
    }
   ],
   "source": [
    "# Multiplication and Addition in Python\n",
    "\n",
    "# Define two numbers\n",
    "number1 = 10\n",
    "number2 = 5\n",
    "\n",
    "# Multiply the numbers\n",
    "result_multiply = number1 * number2\n",
    "\n",
    "# Add the numbers\n",
    "result_add = number1 + number2\n",
    "\n",
    "# Print the results\n",
    "print(f\"The result of multiplying {number1} and {number2} is: {result_multiply}\")\n",
    "print(f\"The result of adding {number1} and {number2} is: {result_add}\")"
   ]
  },
  {
   "cell_type": "code",
   "execution_count": 13,
   "metadata": {},
   "outputs": [
    {
     "name": "stdout",
     "output_type": "stream",
     "text": [
      "120 minutes is equal to 2.0 hours.\n"
     ]
    }
   ],
   "source": [
    "# Conversion of Minutes to Hours in Python\n",
    "\n",
    "# Define the number of minutes\n",
    "minutes = 120\n",
    "\n",
    "# Convert minutes to hours\n",
    "hours = minutes / 60\n",
    "\n",
    "# Print the result\n",
    "print(f\"{minutes} minutes is equal to {hours} hours.\")\n"
   ]
  },
  {
   "cell_type": "markdown",
   "metadata": {},
   "source": [
    "# Objectives\n",
    "\n",
    "In this notebook, we aim to achieve the following objectives:\n",
    "\n",
    "1. **Introduction to Arithmetic Operations:**\n",
    "   - Understand and practice basic arithmetic operations in Python.\n",
    "\n",
    "2. **Numerical Calculations:**\n",
    "   - Perform numerical calculations using Python for real-world scenarios.\n",
    "\n",
    "3. **Conversion and Units:**\n",
    "   - Learn how to convert units, such as converting minutes to hours.\n",
    "\n",
    "4. **Data Science Tools:**\n",
    "   - Explore and become familiar with essential data science tools and libraries.\n",
    "\n",
    "5. **Code Exploration:**\n",
    "   - Experiment with code snippets to deepen understanding.\n",
    "\n",
    "Feel free to follow along and execute the code cells to reinforce your understanding of the concepts covered in this notebook.\n"
   ]
  },
  {
   "cell_type": "markdown",
   "metadata": {},
   "source": [
    "# Author\n",
    "\n",
    "**Author:** María Celeste Urzúa Oliva\n"
   ]
  },
  {
   "cell_type": "code",
   "execution_count": null,
   "metadata": {},
   "outputs": [],
   "source": []
  },
  {
   "cell_type": "code",
   "execution_count": null,
   "metadata": {},
   "outputs": [],
   "source": []
  },
  {
   "cell_type": "code",
   "execution_count": null,
   "metadata": {},
   "outputs": [],
   "source": []
  }
 ],
 "metadata": {
  "kernelspec": {
   "display_name": "Python 3 (ipykernel)",
   "language": "python",
   "name": "python3"
  },
  "language_info": {
   "codemirror_mode": {
    "name": "ipython",
    "version": 3
   },
   "file_extension": ".py",
   "mimetype": "text/x-python",
   "name": "python",
   "nbconvert_exporter": "python",
   "pygments_lexer": "ipython3",
   "version": "3.11.5"
  }
 },
 "nbformat": 4,
 "nbformat_minor": 4
}
